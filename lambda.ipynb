{
  "nbformat": 4,
  "nbformat_minor": 0,
  "metadata": {
    "colab": {
      "name": "lambda.ipynb",
      "provenance": [],
      "authorship_tag": "ABX9TyPMSUz38+5/sPNknZ6TD0tt",
      "include_colab_link": true
    },
    "kernelspec": {
      "name": "python3",
      "display_name": "Python 3"
    }
  },
  "cells": [
    {
      "cell_type": "markdown",
      "metadata": {
        "id": "view-in-github",
        "colab_type": "text"
      },
      "source": [
        "<a href=\"https://colab.research.google.com/github/oliverwsd/Python-100-Days/blob/master/lambda.ipynb\" target=\"_parent\"><img src=\"https://colab.research.google.com/assets/colab-badge.svg\" alt=\"Open In Colab\"/></a>"
      ]
    },
    {
      "cell_type": "code",
      "metadata": {
        "id": "ga712WU6yxv6",
        "colab_type": "code",
        "colab": {
          "base_uri": "https://localhost:8080/",
          "height": 36
        },
        "outputId": "87e24a94-eb75-4b29-a3b6-c66dc1e8dbdf"
      },
      "source": [
        "# def \n",
        "def mySum(x,y):\n",
        "  return x+y\n",
        "mySum(2,5)"
      ],
      "execution_count": 1,
      "outputs": [
        {
          "output_type": "execute_result",
          "data": {
            "text/plain": [
              "7"
            ]
          },
          "metadata": {
            "tags": []
          },
          "execution_count": 1
        }
      ]
    },
    {
      "cell_type": "code",
      "metadata": {
        "id": "2zR67AZCzExh",
        "colab_type": "code",
        "colab": {
          "base_uri": "https://localhost:8080/",
          "height": 36
        },
        "outputId": "caac3c38-b87a-478f-a993-b6a378a0cfc8"
      },
      "source": [
        "# lambda \n",
        "# annonymous function 使得函数不需要函数名\n",
        "(lambda x,y: x+y)(2,4)"
      ],
      "execution_count": 2,
      "outputs": [
        {
          "output_type": "execute_result",
          "data": {
            "text/plain": [
              "6"
            ]
          },
          "metadata": {
            "tags": []
          },
          "execution_count": 2
        }
      ]
    },
    {
      "cell_type": "code",
      "metadata": {
        "id": "JV0pBmkFzNZN",
        "colab_type": "code",
        "colab": {
          "base_uri": "https://localhost:8080/",
          "height": 36
        },
        "outputId": "bba6592a-e4c4-496a-dd12-7d4c9ec0e893"
      },
      "source": [
        "# if/else\n",
        "(lambda x,y: x if x<y else y)(1,2)\n",
        "# 嵌套\n",
        "(lambda x:(lambda y:(lambda z: x+y+z)(1))(2))(3)\n",
        "# 递归\n",
        "func = lambda n: 1 if n==0 else n*func(n-1)"
      ],
      "execution_count": 8,
      "outputs": [
        {
          "output_type": "execute_result",
          "data": {
            "text/plain": [
              "120"
            ]
          },
          "metadata": {
            "tags": []
          },
          "execution_count": 8
        }
      ]
    },
    {
      "cell_type": "code",
      "metadata": {
        "id": "dvZ0gxwT1hCJ",
        "colab_type": "code",
        "colab": {
          "base_uri": "https://localhost:8080/",
          "height": 36
        },
        "outputId": "76bc8aa4-6653-4a13-92bf-4b79642043e5"
      },
      "source": [
        "list(map(lambda x: x*2, [1,2,3,4,5]))\n",
        "# map: computes the function using the arguments from each of the iterables 1,2,3,4,5\n",
        "\n",
        "list(filter(lambda x:x<0, range(-5,5)))\n",
        "# filter 遍历序列中每一个元素，作为参数，传入lambda表达式中，如果值为TURE，则保留该元素"
      ],
      "execution_count": 10,
      "outputs": [
        {
          "output_type": "execute_result",
          "data": {
            "text/plain": [
              "[-5, -4, -3, -2, -1]"
            ]
          },
          "metadata": {
            "tags": []
          },
          "execution_count": 10
        }
      ]
    }
  ]
}